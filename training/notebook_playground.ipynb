{
 "cells": [
  {
   "cell_type": "code",
   "id": "initial_id",
   "metadata": {
    "collapsed": true,
    "ExecuteTime": {
     "end_time": "2024-06-06T10:55:16.903300Z",
     "start_time": "2024-06-06T10:55:11.797070Z"
    }
   },
   "source": [
    "from importlib import reload\n",
    "\n",
    "import numpy as np\n",
    "from matplotlib import pyplot as plt\n",
    "\n",
    "import spectrum_painting as sp\n",
    "import spectrum_painting_data as sp_data\n",
    "import spectrum_painting_plotting as sp_plot\n",
    "from training.spectrogram import split_spectrogram"
   ],
   "outputs": [],
   "execution_count": 1
  },
  {
   "metadata": {
    "ExecuteTime": {
     "end_time": "2024-06-06T10:55:30.628869Z",
     "start_time": "2024-06-06T10:55:19.781818Z"
    }
   },
   "cell_type": "code",
   "source": [
    "# Reload spectrum painting module in case the code changed\n",
    "# and you want what is executed to be what you wrote.\n",
    "reload(sp_data)\n",
    "reload(sp_plot)\n",
    "reload(sp)\n",
    "\n",
    "spectrograms = sp_data.load_spectrograms(data_dir=\"data/numpy\",\n",
    "                                         classes=[\"ZBW\"],\n",
    "                                         snr_list=[30],\n",
    "                                         # 20 MHz\n",
    "                                         sample_rate=20000000,\n",
    "                                         count=500000,\n",
    "                                         window_length=256)\n",
    "\n",
    "\n",
    "# spectrograms_test = sp_data.load_spectrograms(data_dir=\"data/numpy-test\",\n",
    "#                                          # classes=[\"Z\", \"B\", \"W\", \"BW\", \"ZB\", \"ZW\", \"ZBW\"],\n",
    "#                                          classes=[\"ZBW\"],\n",
    "#                                          snr_list=[30],\n",
    "#                                          # 20 MHz\n",
    "#                                          sample_rate=20000000,\n",
    "#                                          count=500000)"
   ],
   "id": "8fa628afb94a0cc4",
   "outputs": [],
   "execution_count": 2
  },
  {
   "metadata": {
    "ExecuteTime": {
     "end_time": "2024-06-06T10:55:44.736659Z",
     "start_time": "2024-06-06T10:55:44.456885Z"
    }
   },
   "cell_type": "code",
   "source": [
    "reload(sp_data)\n",
    "reload(sp_plot)\n",
    "reload(sp)\n",
    "\n",
    "# spec = spectrograms[\"ZBW\"][0]\n",
    "# spec_test = spectrograms_test[\"ZBW\"][0]\n",
    "\n",
    "spec_minus_100 = spectrograms[\"ZBW\"][0]\n",
    "spec0 = spectrograms[\"ZBW\"][1]\n",
    "spec10 = spectrograms[\"ZBW\"][2]\n",
    "spec20 = spectrograms[\"ZBW\"][3]\n",
    "spec30 = spectrograms[\"ZBW\"][4]\n",
    "\n",
    "# plt.plot(spec_minus_100.values.mean(axis=0), label=\"-100\")\n",
    "# plt.plot(spec0.values.mean(axis=0), label=\"0\")\n",
    "plt.plot(spec10.values.mean(axis=0), label=\"10\")\n",
    "plt.plot(spec20.values.mean(axis=0), label=\"20\")\n",
    "plt.plot(spec30.values.mean(axis=0), label=\"30\")\n",
    "plt.legend(loc='upper right')\n",
    "plt.show()\n",
    "\n",
    "print(spec30.values.shape)\n",
    "print(np.min(spec30.values))\n",
    "# spec=sp.take_frequencies(spec, 95, 165)\n",
    "sp_plot.plot_spectrogram(spec30.values)\n",
    "# sp_plot.plot_spectrogram(spec_test.values)\n",
    "\n",
    "downsampled = sp.downsample_spectrogram(spectrogram=split_spectrogram(spec30, 2500)[0].values, resolution=64)\n",
    "print(downsampled.shape)\n",
    "sp_plot.plot_spectrogram(downsampled.T)\n",
    "\n",
    "# digitized = sp.digitize_spectrogram(downsampled, 256)\n",
    "# sp_plot.plot_spectrogram(digitized.T)\n",
    "\n",
    "\n",
    "augmented = sp.augment_spectrogram(spectrogram=downsampled, k=3, l=16, d=4)\n",
    "plt.imshow(augmented)\n",
    "plt.show()\n",
    "\n",
    "painted = sp.paint_spectrogram(original=downsampled, augmented=augmented)\n",
    "plt.imshow(painted)\n",
    "plt.show()\n",
    "\n",
    "plt.plot(np.mean(painted, axis=1))\n",
    "plt.show()\n"
   ],
   "id": "2fc84043a684a636",
   "outputs": [
    {
     "ename": "IndexError",
     "evalue": "list index out of range",
     "output_type": "error",
     "traceback": [
      "\u001B[0;31m---------------------------------------------------------------------------\u001B[0m",
      "\u001B[0;31mIndexError\u001B[0m                                Traceback (most recent call last)",
      "Cell \u001B[0;32mIn[3], line 9\u001B[0m\n\u001B[1;32m      5\u001B[0m \u001B[38;5;66;03m# spec = spectrograms[\"ZBW\"][0]\u001B[39;00m\n\u001B[1;32m      6\u001B[0m \u001B[38;5;66;03m# spec_test = spectrograms_test[\"ZBW\"][0]\u001B[39;00m\n\u001B[1;32m      8\u001B[0m spec_minus_100 \u001B[38;5;241m=\u001B[39m spectrograms[\u001B[38;5;124m\"\u001B[39m\u001B[38;5;124mZBW\u001B[39m\u001B[38;5;124m\"\u001B[39m][\u001B[38;5;241m0\u001B[39m]\n\u001B[0;32m----> 9\u001B[0m spec0 \u001B[38;5;241m=\u001B[39m \u001B[43mspectrograms\u001B[49m\u001B[43m[\u001B[49m\u001B[38;5;124;43m\"\u001B[39;49m\u001B[38;5;124;43mZBW\u001B[39;49m\u001B[38;5;124;43m\"\u001B[39;49m\u001B[43m]\u001B[49m\u001B[43m[\u001B[49m\u001B[38;5;241;43m1\u001B[39;49m\u001B[43m]\u001B[49m\n\u001B[1;32m     10\u001B[0m spec10 \u001B[38;5;241m=\u001B[39m spectrograms[\u001B[38;5;124m\"\u001B[39m\u001B[38;5;124mZBW\u001B[39m\u001B[38;5;124m\"\u001B[39m][\u001B[38;5;241m2\u001B[39m]\n\u001B[1;32m     11\u001B[0m spec20 \u001B[38;5;241m=\u001B[39m spectrograms[\u001B[38;5;124m\"\u001B[39m\u001B[38;5;124mZBW\u001B[39m\u001B[38;5;124m\"\u001B[39m][\u001B[38;5;241m3\u001B[39m]\n",
      "\u001B[0;31mIndexError\u001B[0m: list index out of range"
     ]
    }
   ],
   "execution_count": 3
  },
  {
   "metadata": {
    "ExecuteTime": {
     "end_time": "2024-06-02T16:38:15.434800Z",
     "start_time": "2024-06-02T16:38:15.430844Z"
    }
   },
   "cell_type": "code",
   "source": [
    "array = np.array([1, 2, 3])\n",
    "\n",
    "\n",
    "def add_one(n: int):\n",
    "    return n + 1\n",
    "\n",
    "array = add_one(array)\n",
    "\n",
    "# for n in array:\n",
    "#     array[n] = array + 1\n",
    "\n",
    "print(array)"
   ],
   "id": "b880d5be3925a31a",
   "outputs": [
    {
     "name": "stdout",
     "output_type": "stream",
     "text": [
      "[2 3 4]\n"
     ]
    }
   ],
   "execution_count": 17
  }
 ],
 "metadata": {
  "kernelspec": {
   "display_name": "Python 3",
   "language": "python",
   "name": "python3"
  },
  "language_info": {
   "codemirror_mode": {
    "name": "ipython",
    "version": 2
   },
   "file_extension": ".py",
   "mimetype": "text/x-python",
   "name": "python",
   "nbconvert_exporter": "python",
   "pygments_lexer": "ipython2",
   "version": "2.7.6"
  }
 },
 "nbformat": 4,
 "nbformat_minor": 5
}
