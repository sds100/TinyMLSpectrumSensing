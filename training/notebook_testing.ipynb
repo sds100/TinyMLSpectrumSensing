{
 "cells": [
  {
   "cell_type": "code",
   "id": "initial_id",
   "metadata": {
    "collapsed": true,
    "ExecuteTime": {
     "end_time": "2024-06-01T10:45:27.146014Z",
     "start_time": "2024-06-01T10:45:23.791351Z"
    }
   },
   "source": [
    "from importlib import reload\n",
    "from typing import List\n",
    "\n",
    "import numpy as np\n",
    "import tensorflow as tf\n",
    "\n",
    "import spectrum_painting_data as sp_data\n",
    "import spectrum_painting_plotting as sp_plot\n",
    "import spectrum_painting_predict as sp_predict\n",
    "import spectrum_painting_training as sp_training\n",
    "\n",
    "print(\"Num GPUs Available: \", len(tf.config.list_physical_devices('GPU')))"
   ],
   "outputs": [
    {
     "name": "stdout",
     "output_type": "stream",
     "text": [
      "Num GPUs Available:  1\n"
     ]
    }
   ],
   "execution_count": 1
  },
  {
   "metadata": {},
   "cell_type": "markdown",
   "source": "# Load data",
   "id": "d259067e6cd839ed"
  },
  {
   "metadata": {
    "ExecuteTime": {
     "end_time": "2024-05-29T17:48:23.126108Z",
     "start_time": "2024-05-29T17:47:34.678602Z"
    }
   },
   "cell_type": "code",
   "source": [
    "reload(sp_data)\n",
    "\n",
    "spectrograms = sp_data.load_spectrograms(data_dir=\"data/numpy\",\n",
    "                                         classes=[\"ZBW\"],\n",
    "                                         snr_list=[30],\n",
    "                                         sample_rate=20000000,\n",
    "                                         count=44000000)"
   ],
   "id": "99518a2fc3d4f118",
   "execution_count": 12,
   "outputs": []
  },
  {
   "metadata": {
    "ExecuteTime": {
     "end_time": "2024-05-29T17:48:28.830788Z",
     "start_time": "2024-05-29T17:48:23.132336Z"
    }
   },
   "cell_type": "code",
   "source": [
    "reload(sp_training)\n",
    "\n",
    "train_test_sets = sp_training.create_spectrum_painting_train_test_sets(\n",
    "    spectrograms=spectrograms,\n",
    "    options=sp_training.SpectrumPaintingTrainingOptions(\n",
    "        spectrogram_length=2500,\n",
    "        downsample_resolution=64,\n",
    "        k=3,\n",
    "        l=16,\n",
    "        d=4,\n",
    "        color_depth=256\n",
    "    ),\n",
    "    test_size=0.9)"
   ],
   "id": "4d1d6e60b47f2187",
   "execution_count": 13,
   "outputs": []
  },
  {
   "metadata": {
    "ExecuteTime": {
     "end_time": "2024-05-29T17:48:28.836037Z",
     "start_time": "2024-05-29T17:48:28.831806Z"
    }
   },
   "cell_type": "code",
   "source": [
    "def plot_confusion_matrix(model_path: str) -> float:\n",
    "    tflite_model: tf.keras.Model\n",
    "\n",
    "    # Use a different SNR from the spectrograms intentionally\n",
    "    with open(model_path, 'rb') as fid:\n",
    "        tflite_model = fid.read()\n",
    "\n",
    "    tflite_model_y_predictions: List[int] = []\n",
    "\n",
    "    for x_aug, x_painted in list(zip(train_test_sets.x_test_augmented, train_test_sets.x_test_painted)):\n",
    "        tflite_model_y_predictions.append(sp_predict.predict_lite_model(tflite_model, x_aug, x_painted))\n",
    "\n",
    "    tflite_accuracy = np.sum(train_test_sets.y_test == tflite_model_y_predictions) / len(train_test_sets.y_test)\n",
    "\n",
    "    print(f\"Lite model accuracy = {tflite_accuracy}\")\n",
    "    sp_plot.plot_confusion_matrix(np.asarray(tflite_model_y_predictions), train_test_sets.y_test,\n",
    "                                  train_test_sets.label_names)\n",
    "\n",
    "    return tflite_accuracy"
   ],
   "id": "5efe186f8f9dbb5c",
   "execution_count": 14,
   "outputs": []
  },
  {
   "metadata": {
    "ExecuteTime": {
     "end_time": "2024-05-29T17:48:29.811615Z",
     "start_time": "2024-05-29T17:48:28.838038Z"
    }
   },
   "cell_type": "code",
   "source": [
    "reload(sp_plot)\n",
    "reload(sp_predict)\n",
    "\n",
    "accuracies = {\n",
    "    \"snr_30\": plot_confusion_matrix(\"output/spectrum-painting-model-SNR-30.tflite\"),\n",
    "    \"snr_20\": plot_confusion_matrix(\"output/spectrum-painting-model-SNR-20.tflite\"),\n",
    "    \"snr_10\": plot_confusion_matrix(\"output/spectrum-painting-model-SNR-10.tflite\")\n",
    "}\n",
    "\n",
    "print(accuracies)"
   ],
   "id": "5216e96dce9cf677",
   "execution_count": 15,
   "outputs": []
  }
 ],
 "metadata": {
  "kernelspec": {
   "display_name": "Python 3",
   "language": "python",
   "name": "python3"
  },
  "language_info": {
   "codemirror_mode": {
    "name": "ipython",
    "version": 2
   },
   "file_extension": ".py",
   "mimetype": "text/x-python",
   "name": "python",
   "nbconvert_exporter": "python",
   "pygments_lexer": "ipython2",
   "version": "2.7.6"
  }
 },
 "nbformat": 4,
 "nbformat_minor": 5
}
