{
 "cells": [
  {
   "cell_type": "code",
   "id": "initial_id",
   "metadata": {
    "collapsed": true,
    "ExecuteTime": {
     "end_time": "2024-06-20T11:33:01.724504Z",
     "start_time": "2024-06-20T11:33:01.720513Z"
    }
   },
   "source": [
    "import numpy as np\n",
    "from serial import Serial\n",
    "\n",
    "import spectrum_painting_plotting as sp_plot\n",
    "from save_iq_data_for_arduino import save_iq_data\n"
   ],
   "outputs": [],
   "execution_count": 20
  },
  {
   "metadata": {
    "ExecuteTime": {
     "end_time": "2024-06-20T11:33:43.734016Z",
     "start_time": "2024-06-20T11:33:01.726323Z"
    }
   },
   "cell_type": "code",
   "source": [
    "lite_model_file = \"output/spectrum-painting-model-optimize-filters-8.tflite\"\n",
    "# lite_model_file = \"output/spectrum-painting-model-no-quant-filters-2.tflite\"\n",
    "\n",
    "! xxd -n \"output_spectrum_painting_model_tflite\" -i $lite_model_file  | sed -e \"s/unsigned/const unsigned/\"  > ../arduino/spectrum_painting/model.h\n",
    "\n",
    "iq_file = \"data/numpy/SNR30_BW.npy\"\n",
    "windows = 256\n",
    "window_length = 256\n",
    "arduino_iq_file = \"../arduino/spectrum_painting/data.h\"\n",
    "\n",
    "iq_data = np.load(iq_file)\n",
    "save_iq_data(iq_data, windows, window_length, arduino_iq_file)\n",
    "\n",
    "! arduino-cli compile --fqbn arduino:mbed:nano33ble ../arduino/spectrum_painting/spectrum_painting.ino\n",
    "! arduino-cli upload --fqbn arduino:mbed:nano33ble ../arduino/spectrum_painting/spectrum_painting.ino --port /dev/cu.usbmodem21301"
   ],
   "id": "c1e72807e4c3755c",
   "outputs": [
    {
     "name": "stdout",
     "output_type": "stream",
     "text": [
      "Library Arduino_TensorFlowLite has been declared precompiled:\r\n",
      "Precompiled library in \"/Users/sethd/Documents/Arduino/libraries/Arduino_TensorFlowLite/src/cortex-m4/fpv4-sp-d16-softfp\" not found\r\n",
      "Precompiled library in \"/Users/sethd/Documents/Arduino/libraries/Arduino_TensorFlowLite/src/cortex-m4\" not found\r\n",
      "Sketch uses 503280 bytes (51%) of program storage space. Maximum is 983040 bytes.\r\n",
      "Global variables use 181152 bytes (69%) of dynamic memory, leaving 80992 bytes for local variables. Maximum is 262144 bytes.\r\n",
      "\r\n",
      "\u001B[92mUsed library\u001B[0m           \u001B[92mVersion\u001B[0m     \u001B[90mPath\u001B[0m\r\n",
      "\u001B[93mArduino_TensorFlowLite\u001B[0m 2.4.0-ALPHA \u001B[90m/Users/sethd/Documents/Arduino/libraries/Arduino_TensorFlowLite\u001B[0m\r\n",
      "\u001B[93mWire\u001B[0m                               \u001B[90m/Users/sethd/Library/Arduino15/packages/arduino/hardware/mbed/3.3.0/libraries/Wire\u001B[0m\r\n",
      "\r\n",
      "\u001B[92mUsed platform\u001B[0m \u001B[92mVersion\u001B[0m \u001B[90mPath\u001B[0m\r\n",
      "\u001B[93marduino:mbed\u001B[0m  3.3.0   \u001B[90m/Users/sethd/Library/Arduino15/packages/arduino/hardware/mbed/3.3.0\u001B[0m\r\n",
      "Device       : nRF52840-QIAA\r\n",
      "Version      : Arduino Bootloader (SAM-BA extended) 2.0 [Arduino:IKXYZ]\r\n",
      "Address      : 0x0\r\n",
      "Pages        : 256\r\n",
      "Page Size    : 4096 bytes\r\n",
      "Total Size   : 1024KB\r\n",
      "Planes       : 1\r\n",
      "Lock Regions : 0\r\n",
      "Locked       : none\r\n",
      "Security     : false\r\n",
      "Erase flash\r\n",
      "\r\n",
      "Done in 0.001 seconds\r\n",
      "Write 503876 bytes to flash (124 pages)\r\n",
      "[==============================] 100% (124/124 pages)\r\n",
      "Done in 19.725 seconds\r\n",
      "New upload port: /dev/cu.usbmodem21301 (serial)\r\n"
     ]
    }
   ],
   "execution_count": 21
  },
  {
   "metadata": {
    "ExecuteTime": {
     "end_time": "2024-06-20T11:33:43.969170Z",
     "start_time": "2024-06-20T11:33:43.735689Z"
    }
   },
   "cell_type": "code",
   "source": [
    "serial = Serial(port=\"/dev/cu.usbmodem21301\", baudrate=115200, timeout=1000)\n",
    "\n",
    "output_rows = 64\n",
    "classes = [\"Z\", \"B\", \"W\", \"BW\", \"ZB\", \"ZW\", \"ZBW\"]\n",
    "\n",
    "arduino_spectrogram = []\n",
    "for _ in range(output_rows):\n",
    "    real_line = serial.readline().decode('utf-8').strip()\n",
    "    magnitudes = list(map(float, real_line.split(',')))\n",
    "\n",
    "    arduino_spectrogram.append(magnitudes)\n",
    "\n",
    "downsample_duration = int(serial.readline().strip())\n",
    "augment_duration = int(serial.readline().strip())\n",
    "paint_duration = int(serial.readline().strip())\n",
    "digitize_duration = int(serial.readline().strip())\n",
    "inference_duration = int(serial.readline().strip())\n",
    "total_duration = int(serial.readline().strip())\n",
    "predicted_label = int(serial.readline().strip())\n",
    "\n",
    "sp_plot.plot_spectrogram(np.asarray(arduino_spectrogram), \"Arduino spectrogram\")\n",
    "\n",
    "print(f\"Downsample duration = {downsample_duration} ms\")\n",
    "print(f\"Augment duration = {augment_duration} ms\")\n",
    "print(f\"Paint duration = {paint_duration} ms\")\n",
    "print(f\"Digitize duration = {digitize_duration} ms\")\n",
    "print(f\"Inference duration = {inference_duration} ms\")\n",
    "print(f\"Total duration = {total_duration} ms\")\n",
    "print(f\"Predicted label = {classes[predicted_label]}\")\n",
    "print(\"\\n\\n\")\n",
    "\n",
    "serial.close()"
   ],
   "id": "c94f682b1bfc5fab",
   "outputs": [
    {
     "ename": "ValueError",
     "evalue": "could not convert string to float: '/Users/sethd/Documents/Arduino/libraries/Arduino_TensorFlowLite/src/tensorflow/lite/micro/kernels/cmsis_nn/conv.cpp Hybrid models are not supported on TFLite Micro.'",
     "output_type": "error",
     "traceback": [
      "\u001B[0;31m---------------------------------------------------------------------------\u001B[0m",
      "\u001B[0;31mValueError\u001B[0m                                Traceback (most recent call last)",
      "Cell \u001B[0;32mIn[22], line 9\u001B[0m\n\u001B[1;32m      7\u001B[0m \u001B[38;5;28;01mfor\u001B[39;00m _ \u001B[38;5;129;01min\u001B[39;00m \u001B[38;5;28mrange\u001B[39m(output_rows):\n\u001B[1;32m      8\u001B[0m     real_line \u001B[38;5;241m=\u001B[39m serial\u001B[38;5;241m.\u001B[39mreadline()\u001B[38;5;241m.\u001B[39mdecode(\u001B[38;5;124m'\u001B[39m\u001B[38;5;124mutf-8\u001B[39m\u001B[38;5;124m'\u001B[39m)\u001B[38;5;241m.\u001B[39mstrip()\n\u001B[0;32m----> 9\u001B[0m     magnitudes \u001B[38;5;241m=\u001B[39m \u001B[38;5;28;43mlist\u001B[39;49m\u001B[43m(\u001B[49m\u001B[38;5;28;43mmap\u001B[39;49m\u001B[43m(\u001B[49m\u001B[38;5;28;43mfloat\u001B[39;49m\u001B[43m,\u001B[49m\u001B[43m \u001B[49m\u001B[43mreal_line\u001B[49m\u001B[38;5;241;43m.\u001B[39;49m\u001B[43msplit\u001B[49m\u001B[43m(\u001B[49m\u001B[38;5;124;43m'\u001B[39;49m\u001B[38;5;124;43m,\u001B[39;49m\u001B[38;5;124;43m'\u001B[39;49m\u001B[43m)\u001B[49m\u001B[43m)\u001B[49m\u001B[43m)\u001B[49m\n\u001B[1;32m     11\u001B[0m     arduino_spectrogram\u001B[38;5;241m.\u001B[39mappend(magnitudes)\n\u001B[1;32m     13\u001B[0m downsample_duration \u001B[38;5;241m=\u001B[39m \u001B[38;5;28mint\u001B[39m(serial\u001B[38;5;241m.\u001B[39mreadline()\u001B[38;5;241m.\u001B[39mstrip())\n",
      "\u001B[0;31mValueError\u001B[0m: could not convert string to float: '/Users/sethd/Documents/Arduino/libraries/Arduino_TensorFlowLite/src/tensorflow/lite/micro/kernels/cmsis_nn/conv.cpp Hybrid models are not supported on TFLite Micro.'"
     ]
    }
   ],
   "execution_count": 22
  }
 ],
 "metadata": {
  "kernelspec": {
   "display_name": "Python 3",
   "language": "python",
   "name": "python3"
  },
  "language_info": {
   "codemirror_mode": {
    "name": "ipython",
    "version": 2
   },
   "file_extension": ".py",
   "mimetype": "text/x-python",
   "name": "python",
   "nbconvert_exporter": "python",
   "pygments_lexer": "ipython2",
   "version": "2.7.6"
  }
 },
 "nbformat": 4,
 "nbformat_minor": 5
}
