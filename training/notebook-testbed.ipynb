{
 "cells": [
  {
   "cell_type": "code",
   "id": "initial_id",
   "metadata": {
    "collapsed": true,
    "ExecuteTime": {
     "end_time": "2024-06-18T22:29:09.907688Z",
     "start_time": "2024-06-18T22:29:07.796517Z"
    }
   },
   "source": [
    "from glob import glob\n",
    "from typing import List\n",
    "\n",
    "import imageio.v2 as imageio\n",
    "import matplotlib.pyplot as plt\n",
    "import numpy as np\n",
    "import numpy.typing as npt\n",
    "import tensorflow as tf\n",
    "from sklearn.model_selection import train_test_split\n",
    "\n",
    "import spectrum_painting as sp\n",
    "import spectrum_painting_model as sp_model\n",
    "import spectrum_painting_plotting as sp_plot\n",
    "import spectrum_painting_predict as sp_predict\n",
    "import spectrum_painting_training as sp_training\n",
    "from spectrum_painting_training import SpectrumPaintingTrainTestSets\n",
    "\n",
    "print(\"Num GPUs Available: \", len(tf.config.list_physical_devices('GPU')))"
   ],
   "outputs": [
    {
     "name": "stdout",
     "output_type": "stream",
     "text": [
      "Num GPUs Available:  1\n"
     ]
    }
   ],
   "execution_count": 1
  },
  {
   "metadata": {
    "ExecuteTime": {
     "end_time": "2024-06-18T22:29:46.248381Z",
     "start_time": "2024-06-18T22:29:31.822481Z"
    }
   },
   "cell_type": "code",
   "source": [
    "classes = [\"Z\", \"B\", \"W\", \"BW\", \"ZB\", \"ZW\", \"ZBW\"]\n",
    "\n",
    "label_names: List[str] = []\n",
    "labels: List[int] = []\n",
    "augmented_images: List[npt.NDArray[np.uint8]] = []\n",
    "painted_images: List[npt.NDArray[np.uint8]] = []\n",
    "\n",
    "options = sp_training.SpectrumPaintingTrainingOptions(\n",
    "    downsample_resolution=64,\n",
    "    k=3,\n",
    "    l=16,\n",
    "    d=4\n",
    ")\n",
    "\n",
    "for label_index, c in enumerate(classes):\n",
    "    label_names.append(c)\n",
    "\n",
    "    for f in glob(f\"data/testbed/{c}/*\"):\n",
    "        image = imageio.imread(f)\n",
    "        # image = image[64:]\n",
    "        image = image.T\n",
    "\n",
    "        downsampled = sp.downsample_spectrogram(image, options.downsample_resolution)\n",
    "        downsampled = sp.digitize_spectrogram(downsampled)\n",
    "\n",
    "        augmented = sp.augment_spectrogram(downsampled, options.k, options.l, options.d)\n",
    "        augmented = sp.digitize_spectrogram(augmented)\n",
    "\n",
    "        painted = sp.paint_spectrogram(downsampled, augmented)\n",
    "        painted = sp.digitize_spectrogram(painted)\n",
    "\n",
    "        labels.append(label_index)\n",
    "        augmented_images.append(augmented)\n",
    "        painted_images.append(painted)\n",
    "\n",
    "x_combined = np.stack((augmented_images, painted_images), axis=3)\n",
    "\n",
    "test_size = 0.3\n",
    "\n",
    "x_train, x_test, labels_train, labels_test = train_test_split(x_combined,\n",
    "                                                              labels,\n",
    "                                                              test_size=test_size)\n",
    "\n",
    "# for tensorflow it must be uint8 and not a Python int.\n",
    "y_train = labels_train\n",
    "y_train = np.asarray(y_train, dtype=np.uint8)\n",
    "\n",
    "y_test = labels_test\n",
    "y_test = np.asarray(y_test, dtype=np.uint8)\n",
    "\n",
    "x_train_augmented = x_train[:, :, :, 0]\n",
    "x_test_augmented = x_test[:, :, :, 0]\n",
    "\n",
    "x_train_painted = x_train[:, :, :, 1]\n",
    "x_test_painted = x_test[:, :, :, 1]\n",
    "\n",
    "image_index = 0\n",
    "plt.imshow(x_train_augmented[image_index])\n",
    "plt.show()\n",
    "\n",
    "plt.imshow(x_test_painted[image_index])\n",
    "plt.show()\n",
    "\n",
    "print(f\"Number of training images: {len(y_train)}\")\n",
    "print(f\"Number of testing images: {len(y_test)}\")\n",
    "\n",
    "train_test_sets = SpectrumPaintingTrainTestSets(\n",
    "    x_train_augmented,\n",
    "    x_train_painted,\n",
    "    y_train,\n",
    "    [0],\n",
    "    x_test_augmented,\n",
    "    x_test_painted,\n",
    "    y_test,\n",
    "    [0],\n",
    "    label_names,\n",
    ")"
   ],
   "id": "afb1aa657f112524",
   "outputs": [
    {
     "data": {
      "text/plain": [
       "<Figure size 640x480 with 1 Axes>"
      ],
      "image/png": "[encoded data removed]"
     },
     "metadata": {},
     "output_type": "display_data"
    },
    {
     "data": {
      "text/plain": [
       "<Figure size 640x480 with 1 Axes>"
      ],
      "image/png": "[encoded data removed]"
     },
     "metadata": {},
     "output_type": "display_data"
    },
    {
     "name": "stdout",
     "output_type": "stream",
     "text": [
      "Number of training images: 2412\n",
      "Number of testing images: 1034\n"
     ]
    }
   ],
   "execution_count": 3
  },
  {
   "metadata": {
    "jupyter": {
     "is_executing": true
    },
    "ExecuteTime": {
     "start_time": "2024-06-18T22:29:46.249669Z"
    }
   },
   "cell_type": "code",
   "source": [
    "image_shape = train_test_sets.x_train_augmented[0].shape\n",
    "\n",
    "full_model = sp_model.create_tensorflow_model(image_shape=image_shape,\n",
    "                                              label_count=len(train_test_sets.label_names))\n",
    "\n",
    "history = sp_model.fit_model(full_model, train_test_sets, epochs=300, early_stopping_patience=20)\n",
    "\n",
    "sp_plot.plot_model_accuracy_epochs(history)\n",
    "sp_plot.plot_model_loss(history)"
   ],
   "id": "d2f29107a27adbee",
   "outputs": [
    {
     "name": "stderr",
     "output_type": "stream",
     "text": [
      "2024-06-19 00:29:46.259273: I metal_plugin/src/device/metal_device.cc:1154] Metal device set to: Apple M2 Pro\n",
      "2024-06-19 00:29:46.259294: I metal_plugin/src/device/metal_device.cc:296] systemMemory: 32.00 GB\n",
      "2024-06-19 00:29:46.259300: I metal_plugin/src/device/metal_device.cc:313] maxCacheSize: 10.67 GB\n",
      "2024-06-19 00:29:46.259331: I tensorflow/core/common_runtime/pluggable_device/pluggable_device_factory.cc:306] Could not identify NUMA node of platform GPU ID 0, defaulting to 0. Your kernel may not have been built with NUMA support.\n",
      "2024-06-19 00:29:46.259345: I tensorflow/core/common_runtime/pluggable_device/pluggable_device_factory.cc:272] Created TensorFlow device (/job:localhost/replica:0/task:0/device:GPU:0 with 0 MB memory) -> physical PluggableDevice (device: 0, name: METAL, pci bus id: <undefined>)\n",
      "2024-06-19 00:29:46.694108: I tensorflow/core/grappler/optimizers/custom_graph_optimizer_registry.cc:117] Plugin optimizer for device_type GPU is enabled.\n"
     ]
    },
    {
     "name": "stdout",
     "output_type": "stream",
     "text": [
      " Epoch: 26, Val. accuracy = 0.56576400995254523"
     ]
    }
   ],
   "execution_count": null
  },
  {
   "metadata": {
    "jupyter": {
     "is_executing": true
    }
   },
   "cell_type": "code",
   "source": [
    "full_model_y_predictions = [sp_predict.predict_full_model(full_model, x_a, x_p) for (x_a, x_p) in\n",
    "                            zip(train_test_sets.x_test_augmented, train_test_sets.x_test_painted)]\n",
    "\n",
    "sp_plot.plot_confusion_matrix(full_model_y_predictions, train_test_sets.y_test, train_test_sets.label_names)"
   ],
   "id": "af308211d9fd4cc5",
   "outputs": [],
   "execution_count": null
  },
  {
   "metadata": {},
   "cell_type": "code",
   "source": [
    "tflite_model: List[bytes]\n",
    "\n",
    "with open(\"output/spectrum-painting-model-1-iteration.tflite\", \"rb\") as f:\n",
    "    tflite_model = f.read()\n",
    "\n",
    "# interpreter = tf.lite.Interpreter(model_content=tflite_model)\n",
    "# interpreter.allocate_tensors()\n",
    "\n",
    "full_model_y_predictions = [sp_predict.predict_lite_model(tflite_model, x_a, x_p) for (x_a, x_p) in\n",
    "                            zip(train_test_sets.x_test_augmented, train_test_sets.x_test_painted)]\n",
    "\n",
    "sp_plot.plot_confusion_matrix(full_model_y_predictions, train_test_sets.y_test, train_test_sets.label_names)"
   ],
   "id": "556a43dfcaca66cb",
   "outputs": [],
   "execution_count": null
  }
 ],
 "metadata": {
  "kernelspec": {
   "display_name": "Python 3",
   "language": "python",
   "name": "python3"
  },
  "language_info": {
   "codemirror_mode": {
    "name": "ipython",
    "version": 2
   },
   "file_extension": ".py",
   "mimetype": "text/x-python",
   "name": "python",
   "nbconvert_exporter": "python",
   "pygments_lexer": "ipython2",
   "version": "2.7.6"
  }
 },
 "nbformat": 4,
 "nbformat_minor": 5
}
