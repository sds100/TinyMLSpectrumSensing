{
 "cells": [
  {
   "cell_type": "code",
   "id": "initial_id",
   "metadata": {},
   "source": [
    "import os\n",
    "from importlib import reload\n",
    "from typing import List\n",
    "\n",
    "import numpy as np\n",
    "import tensorflow as tf\n",
    "from serial import Serial\n",
    "\n",
    "import spectrogram as spectrogram\n",
    "import spectrum_painting as sp\n",
    "import spectrum_painting_data as sp_data\n",
    "import spectrum_painting_model as sp_model\n",
    "import spectrum_painting_plotting as sp_plot\n",
    "import spectrum_painting_predict as sp_predict\n",
    "import spectrum_painting_training as sp_training\n",
    "from save_iq_data_for_arduino import save_iq_data\n",
    "\n",
    "print(\"Num GPUs Available: \", len(tf.config.list_physical_devices('GPU')))"
   ],
   "outputs": [],
   "execution_count": null
  },
  {
   "metadata": {},
   "cell_type": "markdown",
   "source": [
    "# Convert MATLAB data to numpy files to make loading quicker\n",
    "\n",
    "See `convert_matlab_to_numpy.py` to do call this manually without running it in the notebook."
   ],
   "id": "47da2834224c2ee9"
  },
  {
   "metadata": {},
   "cell_type": "markdown",
   "source": "# Load spectrograms",
   "id": "4bf0211e62088d30"
  },
  {
   "metadata": {},
   "cell_type": "code",
   "source": [
    "reload(sp_training)\n",
    "\n",
    "classes = [\"Z\", \"B\", \"W\", \"BW\", \"ZB\", \"ZW\", \"ZBW\"]\n",
    "snr = 15\n",
    "spectrum_painting_options = sp_training.SpectrumPaintingTrainingOptions(\n",
    "    downsample_resolution=64,\n",
    "    k=3,\n",
    "    l=16,\n",
    "    d=4\n",
    ")"
   ],
   "id": "bea02fbed5f961d6",
   "outputs": [],
   "execution_count": null
  },
  {
   "metadata": {},
   "cell_type": "code",
   "source": [
    "# Reload spectrum painting module in case the code changed\n",
    "# and you want what is executed to be what you wrote.\n",
    "reload(spectrogram)\n",
    "reload(sp)\n",
    "reload(sp_data)\n",
    "\n",
    "spectrograms = sp_data.load_spectrograms(data_dir=\"data/numpy\",\n",
    "                                         classes=classes,\n",
    "                                         snr_list=[snr],\n",
    "                                         windows_per_spectrogram=256,\n",
    "                                         window_length=256,\n",
    "                                         nfft=64)"
   ],
   "id": "b1713084a0431ab6",
   "outputs": [],
   "execution_count": null
  },
  {
   "metadata": {},
   "cell_type": "code",
   "source": [
    "reload(sp)\n",
    "reload(spectrogram)\n",
    "reload(sp_plot)\n",
    "reload(sp_predict)\n",
    "reload(sp_training)\n",
    "\n",
    "train_test_sets = sp_training.create_spectrum_painting_train_test_sets(\n",
    "    spectrograms=spectrograms,\n",
    "    label_names=classes,\n",
    "    options=spectrum_painting_options,\n",
    "    test_size=0.3\n",
    ")\n",
    "\n",
    "print(f\"Number of training images: {len(train_test_sets.y_train)}\")\n",
    "print(f\"Number of testing images: {len(train_test_sets.y_test)}\")"
   ],
   "id": "48806273ebfa5e9c",
   "outputs": [],
   "execution_count": null
  },
  {
   "metadata": {},
   "cell_type": "markdown",
   "source": "",
   "id": "c6204c36ca82b478"
  },
  {
   "metadata": {},
   "cell_type": "code",
   "source": [
    "image_index = 30\n",
    "sp_plot.plot_spectrogram(train_test_sets.x_test_augmented[image_index], \"Augmented\")\n",
    "sp_plot.plot_spectrogram(train_test_sets.x_test_painted[image_index], \"Painted\")\n",
    "\n",
    "sp_plot.plot_train_images(train_test_sets.x_test_painted,\n",
    "                          train_test_sets.y_test,\n",
    "                          train_test_sets.label_names,\n",
    "                          train_test_sets.test_snr)"
   ],
   "id": "383325941f79ba21",
   "outputs": [],
   "execution_count": null
  },
  {
   "metadata": {},
   "cell_type": "markdown",
   "source": "# Create TensorFlow model",
   "id": "7e468da9d759b9aa"
  },
  {
   "metadata": {},
   "cell_type": "code",
   "source": [
    "reload(sp_model)\n",
    "reload(sp_predict)\n",
    "reload(sp_plot)\n",
    "\n",
    "image_shape = train_test_sets.x_train_augmented[0].shape\n",
    "\n",
    "tf_model = sp_model.create_tensorflow_model(image_shape=image_shape, label_count=len(train_test_sets.label_names))\n",
    "tf_model.summary()\n",
    "tf.keras.utils.plot_model(tf_model, to_file=\"output/model.png\", dpi=60)\n",
    "\n",
    "history = sp_model.fit_model(tf_model, train_test_sets, epochs=200, early_stopping_patience=20)\n",
    "\n",
    "sp_plot.plot_model_accuracy_epochs(history)\n",
    "sp_plot.plot_model_loss(history)\n",
    "\n",
    "final_loss, full_model_accuracy = tf_model.evaluate([train_test_sets.x_test_augmented,\n",
    "                                                     train_test_sets.x_test_painted],\n",
    "                                                    train_test_sets.y_test,\n",
    "                                                    verbose=0)\n",
    "print(\"Final loss: {0:.6f}, final accuracy: {1:.6f}\".format(final_loss, full_model_accuracy))\n",
    "\n",
    "output_file = f\"output/spectrum-painting-model.keras\"\n",
    "\n",
    "tf_model.save(output_file, save_format=\"keras\")\n",
    "\n",
    "keras_model_size = os.stat(output_file).st_size\n",
    "print(f\"Done. Keras model size = {keras_model_size // 1000} KB\")\n",
    "\n",
    "# Predict with full Tensorflow\n",
    "test_img_augmented = train_test_sets.x_test_augmented[17]\n",
    "test_img_painted = train_test_sets.x_test_painted[17]\n",
    "\n",
    "sp_plot.plot_spectrogram(test_img_augmented, \"Augmented\")\n",
    "sp_plot.plot_spectrogram(test_img_painted, \"Painted\")\n",
    "\n",
    "prediction = sp_predict.predict_full_model(tf_model, test_img_augmented, test_img_painted)\n",
    "\n",
    "print(train_test_sets.label_names[prediction])\n",
    "\n",
    "tf_model_y_predictions = [sp_predict.predict_full_model(tf_model, x_a, x_p) for (x_a, x_p) in\n",
    "                          zip(train_test_sets.x_test_augmented, train_test_sets.x_test_painted)]\n",
    "\n",
    "sp_plot.plot_confusion_matrix(tf_model_y_predictions, train_test_sets.y_test, train_test_sets.label_names)"
   ],
   "id": "1a02ae00e43d2b61",
   "outputs": [],
   "execution_count": null
  },
  {
   "metadata": {},
   "cell_type": "markdown",
   "source": "# Convert to Lite model",
   "id": "b007f5deab1cee55"
  },
  {
   "metadata": {},
   "cell_type": "code",
   "source": [
    "reload(sp_model)\n",
    "reload(sp_predict)\n",
    "\n",
    "tflite_model = sp_model.convert_to_tensorflow_lite(tf_model,\n",
    "                                                   train_test_sets.x_test_augmented,\n",
    "                                                   train_test_sets.x_test_painted)\n",
    "print(f\"Done. Model size = {len(tflite_model) // 1000} KB\")\n",
    "\n",
    "lite_output_file = f\"output/spectrum-painting-model.tflite\"\n",
    "# Save the model.\n",
    "with open(lite_output_file, \"wb\") as f:\n",
    "    f.write(tflite_model)\n",
    "\n",
    "# Create a hex dump of the model in a C file for the arduino.\n",
    "# Use sed to make the variables const since they are huge.\n",
    "! xxd -i $lite_output_file | sed -e \"s/unsigned/const unsigned/\"  > ../arduino/spectrum_painting/model.h\n",
    "\n",
    "image_index = 20\n",
    "\n",
    "# Test with Tensorflow Lite\n",
    "tflite_model_y_predictions: List[int] = []\n",
    "\n",
    "for x_aug, x_painted in list(zip(train_test_sets.x_test_augmented, train_test_sets.x_test_painted)):\n",
    "    tflite_model_y_predictions.append(sp_predict.predict_lite_model(tflite_model, x_aug, x_painted))\n",
    "\n",
    "tflite_accuracy = np.sum(train_test_sets.y_test == tflite_model_y_predictions) / len(train_test_sets.y_test)\n",
    "\n",
    "print(f\"Lite model accuracy = {tflite_accuracy}\")\n",
    "sp_plot.plot_confusion_matrix(np.asarray(tflite_model_y_predictions),\n",
    "                              train_test_sets.y_test,\n",
    "                              train_test_sets.label_names)"
   ],
   "id": "e902922ed2ff21d4",
   "outputs": [],
   "execution_count": null
  },
  {
   "metadata": {},
   "cell_type": "markdown",
   "source": "",
   "id": "7f69f1d112208b75"
  },
  {
   "metadata": {},
   "cell_type": "markdown",
   "source": "# Save IQ data to the arduino",
   "id": "4f4c87be389398c5"
  },
  {
   "metadata": {},
   "cell_type": "code",
   "source": [
    "iq_data = np.load(f\"data/numpy/SNR{snr}_ZBW.npy\")\n",
    "\n",
    "save_iq_data(iq_data, windows=64, window_length=1024, file=\"../arduino/spectrum_painting/data.h\")"
   ],
   "id": "103fc97c8f26b28a",
   "outputs": [],
   "execution_count": null
  },
  {
   "metadata": {},
   "cell_type": "markdown",
   "source": "# Compile and upload to arduino",
   "id": "27edff42d9187c44"
  },
  {
   "metadata": {},
   "cell_type": "code",
   "source": [
    "! arduino-cli compile --fqbn arduino:mbed:nano33ble ../arduino/spectrum_painting/spectrum_painting.ino\n",
    "! arduino-cli upload --fqbn arduino:mbed:nano33ble ../arduino/spectrum_painting/spectrum_painting.ino --port /dev/cu.usbmodem21301"
   ],
   "id": "5aebfeb5d0bb60e1",
   "outputs": [],
   "execution_count": null
  },
  {
   "metadata": {},
   "cell_type": "code",
   "source": [
    "serial = Serial(port=\"/dev/cu.usbmodem21301\", baudrate=115200, timeout=1000)\n",
    "\n",
    "arduino_spectrogram = []\n",
    "for _ in range(spectrum_painting_options.downsample_resolution):\n",
    "    real_line = serial.readline().decode('utf-8').strip()\n",
    "    magnitudes = list(map(float, real_line.split(',')))\n",
    "\n",
    "    arduino_spectrogram.append(magnitudes)\n",
    "\n",
    "downsample_duration = int(serial.readline().strip())\n",
    "augment_duration = int(serial.readline().strip())\n",
    "paint_duration = int(serial.readline().strip())\n",
    "digitize_duration = int(serial.readline().strip())\n",
    "inference_duration = int(serial.readline().strip())\n",
    "total_duration = int(serial.readline().strip())\n",
    "predicted_label = int(serial.readline().strip())\n",
    "\n",
    "sp_plot.plot_spectrogram(np.asarray(arduino_spectrogram), \"Arduino spectrogram\")\n",
    "\n",
    "print(f\"Downsample duration = {downsample_duration} ms\")\n",
    "print(f\"Augment duration = {augment_duration} ms\")\n",
    "print(f\"Paint duration = {paint_duration} ms\")\n",
    "print(f\"Digitize duration = {digitize_duration} ms\")\n",
    "print(f\"Inference duration = {inference_duration} ms\")\n",
    "print(f\"Total duration = {total_duration} ms\")\n",
    "print(f\"Predicted label = {classes[predicted_label]}\")\n",
    "print(\"\\n\\n\")\n",
    "print(f\"Full keras model size = {keras_model_size // 1000} KB\")\n",
    "print(f\"Lite model size = {len(tflite_model) // 1000} KB\")\n",
    "print(f\"Full model accuracy = {full_model_accuracy}\")\n",
    "print(f\"Lite model accuracy = {tflite_accuracy}\")\n",
    "\n",
    "serial.close()"
   ],
   "id": "58414b2acf40b579",
   "outputs": [],
   "execution_count": null
  }
 ],
 "metadata": {
  "kernelspec": {
   "display_name": "Python 3 (ipykernel)",
   "language": "python",
   "name": "python3"
  },
  "language_info": {
   "codemirror_mode": {
    "name": "ipython",
    "version": 3
   },
   "file_extension": ".py",
   "mimetype": "text/x-python",
   "name": "python",
   "nbconvert_exporter": "python",
   "pygments_lexer": "ipython3",
   "version": "3.11.9"
  }
 },
 "nbformat": 4,
 "nbformat_minor": 5
}
