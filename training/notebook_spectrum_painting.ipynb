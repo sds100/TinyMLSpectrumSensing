{
 "cells": [
  {
   "cell_type": "code",
   "id": "initial_id",
   "metadata": {
    "ExecuteTime": {
     "end_time": "2024-06-16T16:37:11.245387Z",
     "start_time": "2024-06-16T16:37:08.318525Z"
    }
   },
   "source": [
    "import json\n",
    "from datetime import datetime\n",
    "from typing import List\n",
    "\n",
    "import numpy as np\n",
    "import tensorflow as tf\n",
    "\n",
    "import spectrum_painting_data as sp_data\n",
    "import spectrum_painting_model as sp_model\n",
    "import spectrum_painting_predict as sp_predict\n",
    "import spectrum_painting_training as sp_training\n",
    "from training.result import Result\n",
    "\n",
    "print(\"Num GPUs Available: \", len(tf.config.list_physical_devices('GPU')))"
   ],
   "outputs": [
    {
     "name": "stdout",
     "output_type": "stream",
     "text": [
      "Num GPUs Available:  1\n"
     ]
    }
   ],
   "execution_count": 1
  },
  {
   "metadata": {
    "jupyter": {
     "is_executing": true
    },
    "ExecuteTime": {
     "start_time": "2024-06-16T16:37:11.246416Z"
    }
   },
   "cell_type": "code",
   "source": [
    "classes = [\"Z\", \"B\", \"W\", \"BW\", \"ZB\", \"ZW\", \"ZBW\"]\n",
    "snr_list = [-15, -10, -5, 0, 5, 10, 20, 30]\n",
    "# snr_list = [10, 20, 30]\n",
    "\n",
    "spectrum_painting_options = sp_training.SpectrumPaintingTrainingOptions(\n",
    "    downsample_resolution=64,\n",
    "    k=3,\n",
    "    l=16,\n",
    "    d=4\n",
    ")\n",
    "\n",
    "training_count = 1\n",
    "\n",
    "results: List[Result] = []\n",
    "\n",
    "for snr in snr_list:\n",
    "    print(f\"Starting snr {snr}\")\n",
    "    print(\"Loading spectrograms\")\n",
    "    spectrograms = sp_data.load_spectrograms(data_dir=\"data/numpy\",\n",
    "                                             classes=classes,\n",
    "                                             snr_list=[snr],\n",
    "                                             windows_per_spectrogram=256,\n",
    "                                             window_length=256,\n",
    "                                             nfft=64)\n",
    "\n",
    "    print(\"Creating training and test sets\")\n",
    "    train_test_sets = sp_training.create_spectrum_painting_train_test_sets(\n",
    "        spectrograms=spectrograms,\n",
    "        label_names=classes,\n",
    "        options=spectrum_painting_options,\n",
    "        test_size=0.3\n",
    "    )\n",
    "\n",
    "    image_shape = train_test_sets.x_train_augmented[0].shape\n",
    "\n",
    "    full_model_predictions: List[int] = []\n",
    "    full_model_labels: List[int] = []\n",
    "\n",
    "    lite_model_predictions: List[int] = []\n",
    "    lite_model_labels: List[int] = []\n",
    "    lite_model_sizes: List[int] = []\n",
    "\n",
    "    lite_model_no_quant_predictions: List[int] = []\n",
    "    lite_model_no_quant_labels: List[int] = []\n",
    "    lite_model_no_quant_sizes: List[int] = []\n",
    "\n",
    "    for i in range(training_count):\n",
    "        print(f\"Starting training iteration {i}\")\n",
    "        tf_model = sp_model.create_tensorflow_model(image_shape=image_shape,\n",
    "                                                    label_count=len(train_test_sets.label_names))\n",
    "\n",
    "        sp_model.fit_model(tf_model, train_test_sets, epochs=200, early_stopping_patience=20)\n",
    "\n",
    "        full_model_predictions += [sp_predict.predict_full_model(tf_model, x_a, x_p) for (x_a, x_p) in\n",
    "                                   zip(train_test_sets.x_test_augmented, train_test_sets.x_test_painted)]\n",
    "        full_model_labels += train_test_sets.y_test.astype(int).tolist()\n",
    "\n",
    "        lite_model = sp_model.convert_to_tensorflow_lite(tf_model,\n",
    "                                                         train_test_sets.x_test_augmented,\n",
    "                                                         train_test_sets.x_test_painted)\n",
    "\n",
    "        lite_model_sizes.append(len(lite_model))\n",
    "\n",
    "        lite_model_predictions += [sp_predict.predict_lite_model(lite_model, x_a, x_p) for (x_a, x_p) in\n",
    "                                   zip(train_test_sets.x_test_augmented, train_test_sets.x_test_painted)]\n",
    "        lite_model_labels += train_test_sets.y_test.astype(int).tolist()\n",
    "\n",
    "        lite_no_quant_model = sp_model.convert_to_tensorflow_lite_no_quantization(tf_model)\n",
    "\n",
    "        lite_model_no_quant_sizes.append(len(lite_no_quant_model))\n",
    "\n",
    "        lite_model_no_quant_predictions += \\\n",
    "            [sp_predict.predict_lite_no_quant_model(lite_no_quant_model, x_a, x_p) for (x_a, x_p) in\n",
    "             zip(train_test_sets.x_test_augmented, train_test_sets.x_test_painted)]\n",
    "\n",
    "        lite_model_no_quant_labels += train_test_sets.y_test.astype(int).tolist()\n",
    "\n",
    "    result = Result(\n",
    "        snr=snr,\n",
    "        label_names=train_test_sets.label_names,\n",
    "        full_model_labels=full_model_labels,\n",
    "        full_model_predictions=full_model_predictions,\n",
    "        lite_model_labels=lite_model_labels,\n",
    "        lite_model_predictions=lite_model_predictions,\n",
    "        lite_model_size=np.mean(lite_model_sizes),\n",
    "        lite_model_no_quant_labels=lite_model_no_quant_labels,\n",
    "        lite_model_no_quant_predictions=lite_model_no_quant_predictions,\n",
    "        lite_no_quant_model_size=np.mean(lite_model_no_quant_sizes)\n",
    "    )\n",
    "    results.append(result)\n",
    "\n",
    "print(\"Saving model\")\n",
    "timestamp = datetime.now().strftime(\"%Y%m%d-%H%M%S\")\n",
    "with open(f\"output/results-{timestamp}.json\", \"w\") as f:\n",
    "    results = [r.to_dict() for r in results]\n",
    "    json.dump({\"results\": results}, f)"
   ],
   "id": "bea02fbed5f961d6",
   "outputs": [
    {
     "name": "stdout",
     "output_type": "stream",
     "text": [
      "Starting snr -15\n",
      "Loading spectrograms\n"
     ]
    }
   ],
   "execution_count": null
  }
 ],
 "metadata": {
  "kernelspec": {
   "display_name": "Python 3 (ipykernel)",
   "language": "python",
   "name": "python3"
  },
  "language_info": {
   "codemirror_mode": {
    "name": "ipython",
    "version": 3
   },
   "file_extension": ".py",
   "mimetype": "text/x-python",
   "name": "python",
   "nbconvert_exporter": "python",
   "pygments_lexer": "ipython3",
   "version": "3.11.9"
  }
 },
 "nbformat": 4,
 "nbformat_minor": 5
}
