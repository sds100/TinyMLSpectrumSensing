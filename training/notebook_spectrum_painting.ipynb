{
 "cells": [
  {
   "cell_type": "code",
   "id": "initial_id",
   "metadata": {
    "ExecuteTime": {
     "end_time": "2024-06-17T11:50:45.662972Z",
     "start_time": "2024-06-17T11:50:43.109650Z"
    }
   },
   "source": [
    "import json\n",
    "from datetime import datetime\n",
    "from typing import List, Dict\n",
    "\n",
    "import numpy as np\n",
    "import tensorflow as tf\n",
    "\n",
    "import spectrum_painting_data as sp_data\n",
    "import spectrum_painting_model as sp_model\n",
    "import spectrum_painting_predict as sp_predict\n",
    "import spectrum_painting_training as sp_training\n",
    "from training.result import Result\n",
    "\n",
    "print(\"Num GPUs Available: \", len(tf.config.list_physical_devices('GPU')))"
   ],
   "outputs": [
    {
     "name": "stdout",
     "output_type": "stream",
     "text": [
      "Num GPUs Available:  1\n"
     ]
    }
   ],
   "execution_count": 1
  },
  {
   "metadata": {
    "jupyter": {
     "is_executing": true
    },
    "ExecuteTime": {
     "start_time": "2024-06-17T11:50:45.664171Z"
    }
   },
   "cell_type": "code",
   "source": [
    "classes = [\"Z\", \"B\", \"W\", \"BW\", \"ZB\", \"ZW\", \"ZBW\"]\n",
    "snr_list = [-100, -15, -10, -5, 0, 5, 10, 15, 20, 30]\n",
    "\n",
    "spectrum_painting_options = sp_training.SpectrumPaintingTrainingOptions(\n",
    "    downsample_resolution=64,\n",
    "    k=3,\n",
    "    l=16,\n",
    "    d=4\n",
    ")\n",
    "\n",
    "training_count = 10\n",
    "\n",
    "results: List[Dict] = []\n",
    "\n",
    "for snr in snr_list:\n",
    "    print(f\"Starting snr {snr}\")\n",
    "    print(\"Loading spectrograms\")\n",
    "    spectrograms = sp_data.load_spectrograms(data_dir=\"data/numpy\",\n",
    "                                             classes=classes,\n",
    "                                             snr_list=[snr],\n",
    "                                             windows_per_spectrogram=256,\n",
    "                                             window_length=256,\n",
    "                                             nfft=64)\n",
    "\n",
    "    full_model_predictions: List[List[int]] = []\n",
    "    full_model_labels: List[List[int]] = []\n",
    "\n",
    "    lite_model_predictions: List[List[int]] = []\n",
    "    lite_model_labels: List[List[int]] = []\n",
    "    lite_model_sizes: List[int] = []\n",
    "\n",
    "    lite_model_no_quant_predictions: List[List[int]] = []\n",
    "    lite_model_no_quant_labels: List[List[int]] = []\n",
    "    lite_model_no_quant_sizes: List[int] = []\n",
    "    label_names: [str] = []\n",
    "\n",
    "    for i in range(training_count):\n",
    "        print(f\"Creating training and test sets. SNR: {snr}, Iteration: {i}\")\n",
    "\n",
    "        train_test_sets = sp_training.create_spectrum_painting_train_test_sets(\n",
    "            spectrograms=spectrograms,\n",
    "            label_names=classes,\n",
    "            options=spectrum_painting_options,\n",
    "            test_size=0.3\n",
    "        )\n",
    "        label_names = train_test_sets.label_names\n",
    "\n",
    "        image_shape = train_test_sets.x_train_augmented[0].shape\n",
    "\n",
    "        tf_model = sp_model.create_tensorflow_model(image_shape=image_shape,\n",
    "                                                    label_count=len(train_test_sets.label_names))\n",
    "\n",
    "        sp_model.fit_model(tf_model, train_test_sets, epochs=200, early_stopping_patience=20)\n",
    "\n",
    "        full_model_predictions.append([sp_predict.predict_full_model(tf_model, x_a, x_p) for (x_a, x_p) in\n",
    "                                       zip(train_test_sets.x_test_augmented, train_test_sets.x_test_painted)])\n",
    "        full_model_labels.append(train_test_sets.y_test.astype(int).tolist())\n",
    "\n",
    "        lite_model = sp_model.convert_to_tensorflow_lite(tf_model,\n",
    "                                                         train_test_sets.x_test_augmented,\n",
    "                                                         train_test_sets.x_test_painted)\n",
    "\n",
    "        lite_model_sizes.append(len(lite_model))\n",
    "\n",
    "        lite_model_predictions.append([sp_predict.predict_lite_model(lite_model, x_a, x_p) for (x_a, x_p) in\n",
    "                                       zip(train_test_sets.x_test_augmented, train_test_sets.x_test_painted)])\n",
    "        lite_model_labels.append(train_test_sets.y_test.astype(int).tolist())\n",
    "\n",
    "        lite_no_quant_model = sp_model.convert_to_tensorflow_lite_no_quantization(tf_model)\n",
    "\n",
    "        lite_model_no_quant_sizes.append(len(lite_no_quant_model))\n",
    "\n",
    "        lite_model_no_quant_predictions.append(\n",
    "            [sp_predict.predict_lite_no_quant_model(lite_no_quant_model, x_a, x_p) for (x_a, x_p) in\n",
    "             zip(train_test_sets.x_test_augmented, train_test_sets.x_test_painted)])\n",
    "\n",
    "        lite_model_no_quant_labels.append(train_test_sets.y_test.astype(int).tolist())\n",
    "\n",
    "    result = Result(\n",
    "        snr=snr,\n",
    "        label_names=label_names,\n",
    "        full_model_labels=full_model_labels,\n",
    "        full_model_predictions=full_model_predictions,\n",
    "        lite_model_labels=lite_model_labels,\n",
    "        lite_model_predictions=lite_model_predictions,\n",
    "        lite_model_size=np.mean(lite_model_sizes),\n",
    "        lite_model_no_quant_labels=lite_model_no_quant_labels,\n",
    "        lite_model_no_quant_predictions=lite_model_no_quant_predictions,\n",
    "        lite_no_quant_model_size=np.mean(lite_model_no_quant_sizes)\n",
    "    )\n",
    "    \n",
    "    results.append(result.to_dict())\n",
    "\n",
    "    print(\"Saving model\")\n",
    "    timestamp = datetime.now().strftime(\"%Y%m%d-%H%M%S\")\n",
    "    with open(f\"output/results-{timestamp}.json\", \"w\") as f:\n",
    "        json.dump({\"results\": results}, f)\n"
   ],
   "id": "bea02fbed5f961d6",
   "outputs": [
    {
     "name": "stdout",
     "output_type": "stream",
     "text": [
      "Starting snr -100\n",
      "Loading spectrograms\n",
      "Creating training and test sets. SNR: -100, Iteration: 0\n"
     ]
    },
    {
     "name": "stderr",
     "output_type": "stream",
     "text": [
      "2024-06-17 13:51:04.913369: I metal_plugin/src/device/metal_device.cc:1154] Metal device set to: Apple M2 Pro\n",
      "2024-06-17 13:51:04.913401: I metal_plugin/src/device/metal_device.cc:296] systemMemory: 32.00 GB\n",
      "2024-06-17 13:51:04.913416: I metal_plugin/src/device/metal_device.cc:313] maxCacheSize: 10.67 GB\n",
      "2024-06-17 13:51:04.913442: I tensorflow/core/common_runtime/pluggable_device/pluggable_device_factory.cc:306] Could not identify NUMA node of platform GPU ID 0, defaulting to 0. Your kernel may not have been built with NUMA support.\n",
      "2024-06-17 13:51:04.913459: I tensorflow/core/common_runtime/pluggable_device/pluggable_device_factory.cc:272] Created TensorFlow device (/job:localhost/replica:0/task:0/device:GPU:0 with 0 MB memory) -> physical PluggableDevice (device: 0, name: METAL, pci bus id: <undefined>)\n",
      "2024-06-17 13:51:05.343076: I tensorflow/core/grappler/optimizers/custom_graph_optimizer_registry.cc:117] Plugin optimizer for device_type GPU is enabled.\n"
     ]
    },
    {
     "name": "stdout",
     "output_type": "stream",
     "text": [
      " Epoch: 73, Val. accuracy = 0.12393566966056824INFO:tensorflow:Assets written to: /var/folders/81/3wz7wxg90f3df6qvy1xbf71m0000gn/T/tmp4_yxv2mi/assets\n"
     ]
    },
    {
     "name": "stderr",
     "output_type": "stream",
     "text": [
      "INFO:tensorflow:Assets written to: /var/folders/81/3wz7wxg90f3df6qvy1xbf71m0000gn/T/tmp4_yxv2mi/assets\n",
      "/Users/sethd/Desktop/spectrum-painting/venv/lib/python3.10/site-packages/tensorflow/lite/python/convert.py:947: UserWarning: Statistics for quantized inputs were expected, but not specified; continuing anyway.\n",
      "  warnings.warn(\n",
      "2024-06-17 13:52:19.455314: W tensorflow/compiler/mlir/lite/python/tf_tfl_flatbuffer_helpers.cc:378] Ignored output_format.\n",
      "2024-06-17 13:52:19.455326: W tensorflow/compiler/mlir/lite/python/tf_tfl_flatbuffer_helpers.cc:381] Ignored drop_control_dependency.\n",
      "2024-06-17 13:52:19.455575: I tensorflow/cc/saved_model/reader.cc:83] Reading SavedModel from: /var/folders/81/3wz7wxg90f3df6qvy1xbf71m0000gn/T/tmp4_yxv2mi\n",
      "2024-06-17 13:52:19.457194: I tensorflow/cc/saved_model/reader.cc:51] Reading meta graph with tags { serve }\n",
      "2024-06-17 13:52:19.457199: I tensorflow/cc/saved_model/reader.cc:146] Reading SavedModel debug info (if present) from: /var/folders/81/3wz7wxg90f3df6qvy1xbf71m0000gn/T/tmp4_yxv2mi\n",
      "2024-06-17 13:52:19.460557: I tensorflow/compiler/mlir/mlir_graph_optimization_pass.cc:382] MLIR V1 optimization pass is not enabled\n",
      "2024-06-17 13:52:19.462115: I tensorflow/cc/saved_model/loader.cc:233] Restoring SavedModel bundle.\n",
      "2024-06-17 13:52:19.517910: I tensorflow/cc/saved_model/loader.cc:217] Running initialization op on SavedModel bundle at path: /var/folders/81/3wz7wxg90f3df6qvy1xbf71m0000gn/T/tmp4_yxv2mi\n",
      "2024-06-17 13:52:19.534453: I tensorflow/cc/saved_model/loader.cc:316] SavedModel load for tags { serve }; Status: success: OK. Took 78879 microseconds.\n",
      "2024-06-17 13:52:19.550058: I tensorflow/compiler/mlir/tensorflow/utils/dump_mlir_util.cc:269] disabling MLIR crash reproducer, set env var `MLIR_CRASH_REPRODUCER_DIRECTORY` to enable.\n",
      "fully_quantize: 0, inference_type: 6, input_inference_type: UINT8, output_inference_type: UINT8\n",
      "INFO: Created TensorFlow Lite XNNPACK delegate for CPU.\n"
     ]
    },
    {
     "name": "stdout",
     "output_type": "stream",
     "text": [
      "INFO:tensorflow:Assets written to: /var/folders/81/3wz7wxg90f3df6qvy1xbf71m0000gn/T/tmp9unpgddj/assets\n"
     ]
    },
    {
     "name": "stderr",
     "output_type": "stream",
     "text": [
      "INFO:tensorflow:Assets written to: /var/folders/81/3wz7wxg90f3df6qvy1xbf71m0000gn/T/tmp9unpgddj/assets\n",
      "2024-06-17 13:52:21.187470: W tensorflow/compiler/mlir/lite/python/tf_tfl_flatbuffer_helpers.cc:378] Ignored output_format.\n",
      "2024-06-17 13:52:21.187481: W tensorflow/compiler/mlir/lite/python/tf_tfl_flatbuffer_helpers.cc:381] Ignored drop_control_dependency.\n",
      "2024-06-17 13:52:21.187589: I tensorflow/cc/saved_model/reader.cc:83] Reading SavedModel from: /var/folders/81/3wz7wxg90f3df6qvy1xbf71m0000gn/T/tmp9unpgddj\n",
      "2024-06-17 13:52:21.189382: I tensorflow/cc/saved_model/reader.cc:51] Reading meta graph with tags { serve }\n",
      "2024-06-17 13:52:21.189387: I tensorflow/cc/saved_model/reader.cc:146] Reading SavedModel debug info (if present) from: /var/folders/81/3wz7wxg90f3df6qvy1xbf71m0000gn/T/tmp9unpgddj\n",
      "2024-06-17 13:52:21.193867: I tensorflow/cc/saved_model/loader.cc:233] Restoring SavedModel bundle.\n",
      "2024-06-17 13:52:21.249426: I tensorflow/cc/saved_model/loader.cc:217] Running initialization op on SavedModel bundle at path: /var/folders/81/3wz7wxg90f3df6qvy1xbf71m0000gn/T/tmp9unpgddj\n",
      "2024-06-17 13:52:21.266950: I tensorflow/cc/saved_model/loader.cc:316] SavedModel load for tags { serve }; Status: success: OK. Took 79359 microseconds.\n"
     ]
    },
    {
     "name": "stdout",
     "output_type": "stream",
     "text": [
      "Creating training and test sets. SNR: -100, Iteration: 1\n",
      " Epoch: 65, Val. accuracy = 0.16177861392498016INFO:tensorflow:Assets written to: /var/folders/81/3wz7wxg90f3df6qvy1xbf71m0000gn/T/tmpbpcmdqxg/assets\n"
     ]
    },
    {
     "name": "stderr",
     "output_type": "stream",
     "text": [
      "INFO:tensorflow:Assets written to: /var/folders/81/3wz7wxg90f3df6qvy1xbf71m0000gn/T/tmpbpcmdqxg/assets\n",
      "/Users/sethd/Desktop/spectrum-painting/venv/lib/python3.10/site-packages/tensorflow/lite/python/convert.py:947: UserWarning: Statistics for quantized inputs were expected, but not specified; continuing anyway.\n",
      "  warnings.warn(\n",
      "2024-06-17 13:53:42.221577: W tensorflow/compiler/mlir/lite/python/tf_tfl_flatbuffer_helpers.cc:378] Ignored output_format.\n",
      "2024-06-17 13:53:42.221592: W tensorflow/compiler/mlir/lite/python/tf_tfl_flatbuffer_helpers.cc:381] Ignored drop_control_dependency.\n",
      "2024-06-17 13:53:42.221698: I tensorflow/cc/saved_model/reader.cc:83] Reading SavedModel from: /var/folders/81/3wz7wxg90f3df6qvy1xbf71m0000gn/T/tmpbpcmdqxg\n",
      "2024-06-17 13:53:42.223685: I tensorflow/cc/saved_model/reader.cc:51] Reading meta graph with tags { serve }\n",
      "2024-06-17 13:53:42.223690: I tensorflow/cc/saved_model/reader.cc:146] Reading SavedModel debug info (if present) from: /var/folders/81/3wz7wxg90f3df6qvy1xbf71m0000gn/T/tmpbpcmdqxg\n",
      "2024-06-17 13:53:42.228428: I tensorflow/cc/saved_model/loader.cc:233] Restoring SavedModel bundle.\n",
      "2024-06-17 13:53:42.284580: I tensorflow/cc/saved_model/loader.cc:217] Running initialization op on SavedModel bundle at path: /var/folders/81/3wz7wxg90f3df6qvy1xbf71m0000gn/T/tmpbpcmdqxg\n",
      "2024-06-17 13:53:42.301387: I tensorflow/cc/saved_model/loader.cc:316] SavedModel load for tags { serve }; Status: success: OK. Took 79687 microseconds.\n",
      "fully_quantize: 0, inference_type: 6, input_inference_type: UINT8, output_inference_type: UINT8\n"
     ]
    },
    {
     "name": "stdout",
     "output_type": "stream",
     "text": [
      "INFO:tensorflow:Assets written to: /var/folders/81/3wz7wxg90f3df6qvy1xbf71m0000gn/T/tmpzrnoq0wh/assets\n"
     ]
    },
    {
     "name": "stderr",
     "output_type": "stream",
     "text": [
      "INFO:tensorflow:Assets written to: /var/folders/81/3wz7wxg90f3df6qvy1xbf71m0000gn/T/tmpzrnoq0wh/assets\n",
      "2024-06-17 13:53:44.056473: W tensorflow/compiler/mlir/lite/python/tf_tfl_flatbuffer_helpers.cc:378] Ignored output_format.\n",
      "2024-06-17 13:53:44.056486: W tensorflow/compiler/mlir/lite/python/tf_tfl_flatbuffer_helpers.cc:381] Ignored drop_control_dependency.\n",
      "2024-06-17 13:53:44.056591: I tensorflow/cc/saved_model/reader.cc:83] Reading SavedModel from: /var/folders/81/3wz7wxg90f3df6qvy1xbf71m0000gn/T/tmpzrnoq0wh\n",
      "2024-06-17 13:53:44.058438: I tensorflow/cc/saved_model/reader.cc:51] Reading meta graph with tags { serve }\n",
      "2024-06-17 13:53:44.058443: I tensorflow/cc/saved_model/reader.cc:146] Reading SavedModel debug info (if present) from: /var/folders/81/3wz7wxg90f3df6qvy1xbf71m0000gn/T/tmpzrnoq0wh\n",
      "2024-06-17 13:53:44.062803: I tensorflow/cc/saved_model/loader.cc:233] Restoring SavedModel bundle.\n",
      "2024-06-17 13:53:44.118715: I tensorflow/cc/saved_model/loader.cc:217] Running initialization op on SavedModel bundle at path: /var/folders/81/3wz7wxg90f3df6qvy1xbf71m0000gn/T/tmpzrnoq0wh\n",
      "2024-06-17 13:53:44.135619: I tensorflow/cc/saved_model/loader.cc:316] SavedModel load for tags { serve }; Status: success: OK. Took 79028 microseconds.\n"
     ]
    },
    {
     "name": "stdout",
     "output_type": "stream",
     "text": [
      "Creating training and test sets. SNR: -100, Iteration: 2\n",
      " Epoch: 84, Val. accuracy = 0.14380322396755219INFO:tensorflow:Assets written to: /var/folders/81/3wz7wxg90f3df6qvy1xbf71m0000gn/T/tmprdeeps19/assets\n"
     ]
    },
    {
     "name": "stderr",
     "output_type": "stream",
     "text": [
      "INFO:tensorflow:Assets written to: /var/folders/81/3wz7wxg90f3df6qvy1xbf71m0000gn/T/tmprdeeps19/assets\n",
      "/Users/sethd/Desktop/spectrum-painting/venv/lib/python3.10/site-packages/tensorflow/lite/python/convert.py:947: UserWarning: Statistics for quantized inputs were expected, but not specified; continuing anyway.\n",
      "  warnings.warn(\n",
      "2024-06-17 13:55:17.405008: W tensorflow/compiler/mlir/lite/python/tf_tfl_flatbuffer_helpers.cc:378] Ignored output_format.\n",
      "2024-06-17 13:55:17.405025: W tensorflow/compiler/mlir/lite/python/tf_tfl_flatbuffer_helpers.cc:381] Ignored drop_control_dependency.\n",
      "2024-06-17 13:55:17.405134: I tensorflow/cc/saved_model/reader.cc:83] Reading SavedModel from: /var/folders/81/3wz7wxg90f3df6qvy1xbf71m0000gn/T/tmprdeeps19\n",
      "2024-06-17 13:55:17.407090: I tensorflow/cc/saved_model/reader.cc:51] Reading meta graph with tags { serve }\n",
      "2024-06-17 13:55:17.407095: I tensorflow/cc/saved_model/reader.cc:146] Reading SavedModel debug info (if present) from: /var/folders/81/3wz7wxg90f3df6qvy1xbf71m0000gn/T/tmprdeeps19\n",
      "2024-06-17 13:55:17.411946: I tensorflow/cc/saved_model/loader.cc:233] Restoring SavedModel bundle.\n",
      "2024-06-17 13:55:17.471181: I tensorflow/cc/saved_model/loader.cc:217] Running initialization op on SavedModel bundle at path: /var/folders/81/3wz7wxg90f3df6qvy1xbf71m0000gn/T/tmprdeeps19\n",
      "2024-06-17 13:55:17.487863: I tensorflow/cc/saved_model/loader.cc:316] SavedModel load for tags { serve }; Status: success: OK. Took 82727 microseconds.\n",
      "fully_quantize: 0, inference_type: 6, input_inference_type: UINT8, output_inference_type: UINT8\n"
     ]
    },
    {
     "name": "stdout",
     "output_type": "stream",
     "text": [
      "INFO:tensorflow:Assets written to: /var/folders/81/3wz7wxg90f3df6qvy1xbf71m0000gn/T/tmpye49yk4a/assets\n"
     ]
    },
    {
     "name": "stderr",
     "output_type": "stream",
     "text": [
      "INFO:tensorflow:Assets written to: /var/folders/81/3wz7wxg90f3df6qvy1xbf71m0000gn/T/tmpye49yk4a/assets\n",
      "2024-06-17 13:55:19.305343: W tensorflow/compiler/mlir/lite/python/tf_tfl_flatbuffer_helpers.cc:378] Ignored output_format.\n",
      "2024-06-17 13:55:19.305357: W tensorflow/compiler/mlir/lite/python/tf_tfl_flatbuffer_helpers.cc:381] Ignored drop_control_dependency.\n",
      "2024-06-17 13:55:19.305462: I tensorflow/cc/saved_model/reader.cc:83] Reading SavedModel from: /var/folders/81/3wz7wxg90f3df6qvy1xbf71m0000gn/T/tmpye49yk4a\n",
      "2024-06-17 13:55:19.307332: I tensorflow/cc/saved_model/reader.cc:51] Reading meta graph with tags { serve }\n",
      "2024-06-17 13:55:19.307338: I tensorflow/cc/saved_model/reader.cc:146] Reading SavedModel debug info (if present) from: /var/folders/81/3wz7wxg90f3df6qvy1xbf71m0000gn/T/tmpye49yk4a\n",
      "2024-06-17 13:55:19.311740: I tensorflow/cc/saved_model/loader.cc:233] Restoring SavedModel bundle.\n",
      "2024-06-17 13:55:19.367615: I tensorflow/cc/saved_model/loader.cc:217] Running initialization op on SavedModel bundle at path: /var/folders/81/3wz7wxg90f3df6qvy1xbf71m0000gn/T/tmpye49yk4a\n",
      "2024-06-17 13:55:19.384044: I tensorflow/cc/saved_model/loader.cc:316] SavedModel load for tags { serve }; Status: success: OK. Took 78581 microseconds.\n"
     ]
    },
    {
     "name": "stdout",
     "output_type": "stream",
     "text": [
      "Creating training and test sets. SNR: -100, Iteration: 3\n",
      " Epoch: 61, Val. accuracy = 0.14191107451915748INFO:tensorflow:Assets written to: /var/folders/81/3wz7wxg90f3df6qvy1xbf71m0000gn/T/tmpo5r8i17o/assets\n"
     ]
    },
    {
     "name": "stderr",
     "output_type": "stream",
     "text": [
      "INFO:tensorflow:Assets written to: /var/folders/81/3wz7wxg90f3df6qvy1xbf71m0000gn/T/tmpo5r8i17o/assets\n",
      "/Users/sethd/Desktop/spectrum-painting/venv/lib/python3.10/site-packages/tensorflow/lite/python/convert.py:947: UserWarning: Statistics for quantized inputs were expected, but not specified; continuing anyway.\n",
      "  warnings.warn(\n",
      "2024-06-17 13:56:37.385120: W tensorflow/compiler/mlir/lite/python/tf_tfl_flatbuffer_helpers.cc:378] Ignored output_format.\n",
      "2024-06-17 13:56:37.385136: W tensorflow/compiler/mlir/lite/python/tf_tfl_flatbuffer_helpers.cc:381] Ignored drop_control_dependency.\n",
      "2024-06-17 13:56:37.385281: I tensorflow/cc/saved_model/reader.cc:83] Reading SavedModel from: /var/folders/81/3wz7wxg90f3df6qvy1xbf71m0000gn/T/tmpo5r8i17o\n",
      "2024-06-17 13:56:37.387324: I tensorflow/cc/saved_model/reader.cc:51] Reading meta graph with tags { serve }\n",
      "2024-06-17 13:56:37.387330: I tensorflow/cc/saved_model/reader.cc:146] Reading SavedModel debug info (if present) from: /var/folders/81/3wz7wxg90f3df6qvy1xbf71m0000gn/T/tmpo5r8i17o\n",
      "2024-06-17 13:56:37.391928: I tensorflow/cc/saved_model/loader.cc:233] Restoring SavedModel bundle.\n",
      "2024-06-17 13:56:37.447333: I tensorflow/cc/saved_model/loader.cc:217] Running initialization op on SavedModel bundle at path: /var/folders/81/3wz7wxg90f3df6qvy1xbf71m0000gn/T/tmpo5r8i17o\n",
      "2024-06-17 13:56:37.464266: I tensorflow/cc/saved_model/loader.cc:316] SavedModel load for tags { serve }; Status: success: OK. Took 78985 microseconds.\n",
      "fully_quantize: 0, inference_type: 6, input_inference_type: UINT8, output_inference_type: UINT8\n"
     ]
    },
    {
     "name": "stdout",
     "output_type": "stream",
     "text": [
      "INFO:tensorflow:Assets written to: /var/folders/81/3wz7wxg90f3df6qvy1xbf71m0000gn/T/tmpuqycrlfw/assets\n"
     ]
    },
    {
     "name": "stderr",
     "output_type": "stream",
     "text": [
      "INFO:tensorflow:Assets written to: /var/folders/81/3wz7wxg90f3df6qvy1xbf71m0000gn/T/tmpuqycrlfw/assets\n",
      "2024-06-17 13:56:39.254339: W tensorflow/compiler/mlir/lite/python/tf_tfl_flatbuffer_helpers.cc:378] Ignored output_format.\n",
      "2024-06-17 13:56:39.254352: W tensorflow/compiler/mlir/lite/python/tf_tfl_flatbuffer_helpers.cc:381] Ignored drop_control_dependency.\n",
      "2024-06-17 13:56:39.254450: I tensorflow/cc/saved_model/reader.cc:83] Reading SavedModel from: /var/folders/81/3wz7wxg90f3df6qvy1xbf71m0000gn/T/tmpuqycrlfw\n",
      "2024-06-17 13:56:39.256355: I tensorflow/cc/saved_model/reader.cc:51] Reading meta graph with tags { serve }\n",
      "2024-06-17 13:56:39.256360: I tensorflow/cc/saved_model/reader.cc:146] Reading SavedModel debug info (if present) from: /var/folders/81/3wz7wxg90f3df6qvy1xbf71m0000gn/T/tmpuqycrlfw\n",
      "2024-06-17 13:56:39.260639: I tensorflow/cc/saved_model/loader.cc:233] Restoring SavedModel bundle.\n",
      "2024-06-17 13:56:39.316025: I tensorflow/cc/saved_model/loader.cc:217] Running initialization op on SavedModel bundle at path: /var/folders/81/3wz7wxg90f3df6qvy1xbf71m0000gn/T/tmpuqycrlfw\n",
      "2024-06-17 13:56:39.335177: I tensorflow/cc/saved_model/loader.cc:316] SavedModel load for tags { serve }; Status: success: OK. Took 80726 microseconds.\n"
     ]
    },
    {
     "name": "stdout",
     "output_type": "stream",
     "text": [
      "Creating training and test sets. SNR: -100, Iteration: 4\n",
      " Epoch: 50, Val. accuracy = 0.14001892507076263"
     ]
    }
   ],
   "execution_count": null
  }
 ],
 "metadata": {
  "kernelspec": {
   "display_name": "Python 3 (ipykernel)",
   "language": "python",
   "name": "python3"
  },
  "language_info": {
   "codemirror_mode": {
    "name": "ipython",
    "version": 3
   },
   "file_extension": ".py",
   "mimetype": "text/x-python",
   "name": "python",
   "nbconvert_exporter": "python",
   "pygments_lexer": "ipython3",
   "version": "3.11.9"
  }
 },
 "nbformat": 4,
 "nbformat_minor": 5
}
